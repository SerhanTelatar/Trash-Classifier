{
 "cells": [
  {
   "cell_type": "code",
   "execution_count": 2,
   "metadata": {},
   "outputs": [],
   "source": [
    "import os\n",
    "import shutil\n",
    "from sklearn.model_selection import train_test_split"
   ]
  },
  {
   "cell_type": "code",
   "execution_count": 3,
   "metadata": {},
   "outputs": [],
   "source": [
    "BATTERY_DIR = \"data/battery\"\n",
    "BIOLOGICAL_DIR = \"data/biological\"\n",
    "CLOTHES_DIR = \"data/clothes\"\n",
    "GLASS_DIR = \"data/glass\"\n",
    "METAL_DIR = \"data/metal\"\n",
    "PAPER_DIR = \"data/paper\"\n",
    "PLASTIC_DIR = \"data/plastic\"\n",
    "SHOES_DIR = \"data/shoes\"\n",
    "TRASH_DIR = \"data/trash\""
   ]
  },
  {
   "cell_type": "code",
   "execution_count": 8,
   "metadata": {},
   "outputs": [],
   "source": [
    "train_directories = {\n",
    "    TRAIN_BATTERY_DIR : \"data/train/battery\",\n",
    "    TRAIN_BIOLOGICAL_DIR : \"data/train/biological\",\n",
    "    TRAIN_CLOTHES_DIR : \"data/train/clothes\",\n",
    "    TRAIN_GLASS_DIR : \"data/train/glass\",\n",
    "    TRAIN_METAL_DIR : \"data/train/metal\",\n",
    "    TRAIN_PAPER_DIR : \"data/train/paper\",\n",
    "    TRAIN_PLASTIC_DIR : \"data/train/plastic\",\n",
    "    TRAIN_SHOES_DIR : \"data/train/shoes\",\n",
    "    TRAIN_TRASH_DIR : \"data/train/trash\",\n",
    "}\n",
    "\n",
    "validation_directories = {\n",
    "    VALIDATION_BATTERY_DIR : \"data/validation/battery\",\n",
    "    VALIDATION_BIOLOGICAL_DIR : \"data/validation/biological\",\n",
    "    VALIDATION_CLOTHES_DIR : \"data/validation/clothes\",\n",
    "    VALIDATION_GLASS_DIR : \"data/validation/glass\",\n",
    "    VALIDATION_METAL_DIR : \"data/validation/metal\",\n",
    "    VALIDATION_PAPER_DIR : \"data/validation/paper\",\n",
    "    VALIDATION_PLASTIC_DIR : \"data/validation/plastic\",\n",
    "    VALIDATION_SHOES_DIR : \"data/validation/shoes\",\n",
    "    VALIDATION_TRASH_DIR : \"data/validation/trash\"\n",
    "}"
   ]
  },
  {
   "cell_type": "code",
   "execution_count": 12,
   "metadata": {},
   "outputs": [
    {
     "name": "stdout",
     "output_type": "stream",
     "text": [
      "data/train/battery\n",
      "data/train/biological\n",
      "data/train/clothes\n",
      "data/train/glass\n",
      "data/train/metal\n",
      "data/train/paper\n",
      "data/train/plastic\n",
      "data/train/shoes\n",
      "data/train/trash\n"
     ]
    }
   ],
   "source": [
    "for dir in train_directories.keys():\n",
    "    os.makedirs(dir)"
   ]
  },
  {
   "cell_type": "code",
   "execution_count": null,
   "metadata": {},
   "outputs": [],
   "source": []
  }
 ],
 "metadata": {
  "kernelspec": {
   "display_name": "Python 3",
   "language": "python",
   "name": "python3"
  },
  "language_info": {
   "codemirror_mode": {
    "name": "ipython",
    "version": 3
   },
   "file_extension": ".py",
   "mimetype": "text/x-python",
   "name": "python",
   "nbconvert_exporter": "python",
   "pygments_lexer": "ipython3",
   "version": "3.10.6"
  }
 },
 "nbformat": 4,
 "nbformat_minor": 2
}
